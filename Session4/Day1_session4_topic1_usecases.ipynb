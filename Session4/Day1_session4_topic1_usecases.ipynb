{
  "cells": [
    {
      "cell_type": "markdown",
      "id": "48c35adf",
      "metadata": {
        "id": "48c35adf"
      },
      "source": [
        "# Session 4 - Topic 1 (Use Cases)\n",
        "ASCII‑only examples with buffer protocol, memoryview, and safe release patterns.\n"
      ]
    },
    {
      "cell_type": "markdown",
      "id": "26d7d4e1",
      "metadata": {
        "id": "26d7d4e1"
      },
      "source": [
        "### Case 1: Reverse in-place with memoryview"
      ]
    },
    {
      "cell_type": "code",
      "execution_count": 1,
      "id": "f6e1e3d1",
      "metadata": {
        "colab": {
          "base_uri": "https://localhost:8080/"
        },
        "id": "f6e1e3d1",
        "outputId": "eadd1d14-8836-42e0-d7d5-55594f2e58f4"
      },
      "outputs": [
        {
          "output_type": "stream",
          "name": "stdout",
          "text": [
            "Reverse in-place : bytearray(b'zyxwvutsrq') ...\n"
          ]
        }
      ],
      "source": [
        "import array, struct, os, mmap, tempfile, sys\n",
        "\n",
        "# Case 1: Reverse in-place with memoryview\n",
        "def reverse_inplace(data):\n",
        "    mv = memoryview(data)\n",
        "    left, right = 0, len(mv) - 1\n",
        "    while left < right:\n",
        "        mv[left], mv[right] = mv[right], mv[left]\n",
        "        left += 1\n",
        "        right -= 1\n",
        "    mv.release()\n",
        "\n",
        "ba = bytearray(b\"abcdefghijklmnopqrstuvwxyz\")\n",
        "reverse_inplace(ba)\n",
        "print(\"Reverse in-place :\", ba[:10], \"...\")"
      ]
    },
    {
      "cell_type": "markdown",
      "id": "fba94091",
      "metadata": {
        "id": "fba94091"
      },
      "source": [
        "### Case 2: Binary header parse"
      ]
    },
    {
      "cell_type": "code",
      "execution_count": 3,
      "id": "b57de51a",
      "metadata": {
        "colab": {
          "base_uri": "https://localhost:8080/"
        },
        "id": "b57de51a",
        "outputId": "8b0c8e5a-2401-4517-eb88-d4d105336dfe"
      },
      "outputs": [
        {
          "output_type": "stream",
          "name": "stdout",
          "text": [
            "Parsed header magic: 435235094\n",
            "Major version: 1472\n",
            "Minor version: 6596\n"
          ]
        }
      ],
      "source": [
        "import os\n",
        "import struct\n",
        "\n",
        "# Case 2: Binary Header Parse\n",
        "\n",
        "# Step 1: Create a bytearray of 16 random bytes (could represent a binary file header)\n",
        "header = bytearray(os.urandom(16))\n",
        "\n",
        "# Step 2: Create a memoryview of the header to allow zero-copy access to its raw bytes\n",
        "mv_head = memoryview(header)\n",
        "\n",
        "# Step 3: Unpack the first 8 bytes of the header as:\n",
        "#   - 1 x Big-endian unsigned int (4 bytes) -> 'magic'\n",
        "#   - 2 x Big-endian unsigned short (2 bytes each) -> 'major', 'minor'\n",
        "# Using the format string \">IHH\" where:\n",
        "#   '>' means big-endian\n",
        "#   'I' means 4-byte unsigned int\n",
        "#   'H' means 2-byte unsigned short\n",
        "magic, major, minor = struct.unpack_from(\">IHH\", mv_head, 0)\n",
        "\n",
        "# Step 4: Release the memoryview (good practice when working with low-level buffers)\n",
        "mv_head.release()\n",
        "\n",
        "# Step 5: Print the parsed values from the binary header\n",
        "print(\"Parsed header magic:\", magic)\n",
        "print(\"Major version:\", major)\n",
        "print(\"Minor version:\", minor)"
      ]
    },
    {
      "cell_type": "markdown",
      "id": "d5f63cd5",
      "metadata": {
        "id": "d5f63cd5"
      },
      "source": [
        "### Case 3: mmap editing without copy"
      ]
    },
    {
      "cell_type": "code",
      "execution_count": 5,
      "id": "592690ed",
      "metadata": {
        "colab": {
          "base_uri": "https://localhost:8080/"
        },
        "id": "592690ed",
        "outputId": "3acea932-f7c4-48b2-c616-7bbff2f10fba"
      },
      "outputs": [
        {
          "output_type": "stream",
          "name": "stdout",
          "text": [
            "After mmap edit  : b'ZZZZefghij'\n"
          ]
        }
      ],
      "source": [
        "import mmap\n",
        "import tempfile\n",
        "\n",
        "# Case 3: mmap editing without copy\n",
        "\n",
        "# Step 1: Create a temporary file and write some initial data to it\n",
        "tmp = tempfile.TemporaryFile()\n",
        "tmp.write(b\"abcdefghij\")  # Write 10 bytes of sample data\n",
        "tmp.flush()               # Make sure data is written to disk\n",
        "\n",
        "# Step 2: Memory-map the file so we can access and modify it directly in memory\n",
        "# fileno() gives the OS-level file descriptor\n",
        "# 0 as size means map the entire file\n",
        "# access=mmap.ACCESS_WRITE allows reading and writing\n",
        "mm = mmap.mmap(tmp.fileno(), 0, access=mmap.ACCESS_WRITE)\n",
        "\n",
        "# Step 3: Get a memoryview of the mmap object\n",
        "# This lets us work with the memory buffer directly, zero-copy\n",
        "mv_map = memoryview(mm)\n",
        "\n",
        "# Step 4: Modify the first 4 bytes of the memory-mapped file\n",
        "# This changes the file on disk without needing to call write()\n",
        "mv_map[0:4] = b\"ZZZZ\"\n",
        "\n",
        "# Step 5: Print the updated content from the mmap view\n",
        "print(\"After mmap edit  :\", mm[:10])  # Should show b'ZZZZefghij'\n",
        "\n",
        "# Step 6: Release the memoryview (good practice)\n",
        "mv_map.release()\n",
        "\n",
        "# Step 7: Close the mmap object to unmap the file from memory\n",
        "mm.close()\n",
        "\n",
        "# Step 8: Close the temporary file\n",
        "tmp.close()"
      ]
    },
    {
      "cell_type": "code",
      "execution_count": 7,
      "id": "f3b692d6",
      "metadata": {
        "colab": {
          "base_uri": "https://localhost:8080/"
        },
        "id": "f3b692d6",
        "outputId": "508e5aa0-8233-4d34-e337-0b956de418db"
      },
      "outputs": [
        {
          "output_type": "stream",
          "name": "stdout",
          "text": [
            "Assembled packet : bytearray(b'HEADDATATAIL')\n"
          ]
        }
      ],
      "source": [
        "# Case 5: Packet assembly for TCP/IP or custom binary protocols\n",
        "\n",
        "def build_packet(parts):\n",
        "    \"\"\"\n",
        "    Builds a single binary packet from multiple byte-like parts.\n",
        "\n",
        "    Args:\n",
        "        parts (list of bytes/bytearray/memoryview): Components to assemble into one buffer\n",
        "\n",
        "    Returns:\n",
        "        bytearray: A single contiguous buffer containing all parts\n",
        "    \"\"\"\n",
        "    # Step 1: Pre-allocate a bytearray of the exact size needed\n",
        "    total_size = sum(len(p) for p in parts)\n",
        "    buf = bytearray(total_size)\n",
        "\n",
        "    # Step 2: Create a memoryview of the buffer for efficient slicing without copying\n",
        "    mv = memoryview(buf)\n",
        "\n",
        "    # Step 3: Copy each part into the correct position in the buffer\n",
        "    offset = 0\n",
        "    for part in parts:\n",
        "        part_length = len(part)\n",
        "        mv[offset:offset + part_length] = part  # No copy of the whole buffer\n",
        "        offset += part_length  # Move to next writing position\n",
        "\n",
        "    # Step 4: Release the memoryview (good practice, especially in C extensions)\n",
        "    mv.release()\n",
        "\n",
        "    # Step 5: Return the assembled packet\n",
        "    return buf\n",
        "\n",
        "\n",
        "# Example: Assemble a TCP-like packet with header and payload\n",
        "pkt = build_packet([b\"HEAD\", b\"DATA\", b\"TAIL\"])\n",
        "print(\"Assembled packet :\", pkt)"
      ]
    }
  ],
  "metadata": {
    "colab": {
      "provenance": []
    },
    "language_info": {
      "name": "python"
    },
    "kernelspec": {
      "name": "python3",
      "display_name": "Python 3"
    }
  },
  "nbformat": 4,
  "nbformat_minor": 5
}