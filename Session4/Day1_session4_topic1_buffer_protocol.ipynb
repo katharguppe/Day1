{
  "cells": [
    {
      "cell_type": "markdown",
      "id": "322e78be",
      "metadata": {
        "id": "322e78be"
      },
      "source": [
        "# Session 4 - Topic 1\n",
        "## Buffer Protocol, memoryview, and array.array (ASCII‑only Deep Dive)"
      ]
    },
    {
      "cell_type": "markdown",
      "id": "28e4e255",
      "metadata": {
        "id": "28e4e255"
      },
      "source": [
        "### 1. WHY Buffer Protocol?\n",
        "Allow two Python objects to share the **same** block of memory without copying.\n",
        "\n",
        "Any object that exposes a raw, contiguous (or strided) byte buffer can provide it to consumers (e.g. memoryview, NumPy, PIL).\n",
        "\n",
        "Key CPython API: `PyObject_GetBuffer(obj, Py_buffer* view, flags)`  \n",
        "Fills a C struct `Py_buffer` with:\n",
        "- `buf` : void* pointer to memory\n",
        "- `len` : total bytes\n",
        "- `itemsize`, `format`, `ndim`, `shape`, `strides`, `readonly`, etc.\n"
      ]
    },
    {
      "cell_type": "markdown",
      "source": [
        "\n",
        "---\n",
        "\n",
        "# 🧠 Understanding the Python Buffer Protocol\n",
        "\n",
        "## What is the Buffer Protocol?\n",
        "\n",
        "The **Buffer Protocol** is a low-level mechanism in Python that allows objects to expose their internal data (e.g., bytes, arrays) directly to other objects **without copying**.\n",
        "\n",
        "This is especially useful when working with large datasets or interfacing between libraries like:\n",
        "- NumPy\n",
        "- PIL (images)\n",
        "- memoryview\n",
        "- C extensions\n",
        "\n",
        "### Why Use It?\n",
        "- ✅ Avoids unnecessary **memory copies**\n",
        "- ⚡ Improves performance for large data\n",
        "- 🔗 Enables efficient communication between different libraries\n",
        "\n",
        "---\n",
        "\n",
        "## Key Concepts\n",
        "\n",
        "Any object that supports the **buffer protocol** can be asked to provide a raw buffer using `PyObject_GetBuffer()` at the C level. In Python, this is exposed through functions like:\n",
        "\n",
        "- `memoryview(obj)`\n",
        "- `bytes(obj)` or `bytearray(obj)`\n",
        "- `numpy.frombuffer()`\n",
        "\n",
        "These operations do not copy the underlying memory.\n",
        "\n",
        "---\n",
        "\n",
        "## The Py_buffer Structure (C Level)\n",
        "\n",
        "When an object exports its buffer, it fills a `Py_buffer` struct:\n",
        "\n",
        "```c\n",
        "typedef struct {\n",
        "    void *buf;           // Pointer to the actual memory buffer\n",
        "    Py_ssize_t len;      // Total length in bytes\n",
        "    int readonly;\n",
        "    char *format;        // Data type description (like 'd' for double)\n",
        "    int ndim;            // Number of dimensions\n",
        "    Py_ssize_t *shape;   // Dimensions: e.g., [100, 200]\n",
        "    Py_ssize_t *strides; // Steps in each dimension (in bytes)\n",
        "    ...\n",
        "} Py_buffer;\n",
        "```\n",
        "\n",
        "---\n",
        "\n",
        "## 🐍 Python Example Using `memoryview`\n",
        "\n",
        "Let’s see how two Python objects can share memory using the buffer protocol.\n",
        "\n",
        "```python\n",
        "import numpy as np\n",
        "\n",
        "# Create a NumPy array\n",
        "a = np.array([1, 2, 3, 4], dtype=np.int32)\n",
        "\n",
        "# Get a memoryview of the array\n",
        "m = memoryview(a)\n",
        "\n",
        "print(\"Original array:\", a)\n",
        "\n",
        "# Modify the array via memoryview\n",
        "# Note: We're accessing the raw buffer\n",
        "m_obj = m.cast('B')  # Cast to bytes for byte-level access\n",
        "m_obj[0] = 0xFF      # Change one byte\n",
        "\n",
        "print(\"Modified array:\", a)\n",
        "```\n",
        "\n",
        "> 🔍 Output:\n",
        "```\n",
        "Original array: [1 2 3 4]\n",
        "Modified array: [255 2 3 4]  # Only first byte of first element changed!\n",
        "```\n",
        "\n",
        "Even though we only modified one byte (`0xFF`) in the memory buffer, it affected the original NumPy array — proving they both share the same memory block.\n",
        "\n",
        "---\n",
        "\n",
        "## Another Example: Sharing Between Bytes and Memoryview\n",
        "\n",
        "```python\n",
        "data = b\"Hello, world!\"  # bytes object\n",
        "mv = memoryview(data)\n",
        "\n",
        "print(\"Bytes:\", data)\n",
        "print(\"Memoryview as bytes:\", mv.tobytes())\n",
        "print(\"Memoryview slice:\", mv[7:12].tobytes())  # Slices also share memory\n",
        "```\n",
        "\n",
        "> ✅ No new memory is allocated here!\n",
        "\n",
        "---\n",
        "\n",
        "## Summary\n",
        "\n",
        "| Feature                  | Description |\n",
        "|--------------------------|-------------|\n",
        "| **Buffer Protocol**       | Allows sharing memory between Python objects |\n",
        "| **No Copying**            | Efficient for large data |\n",
        "| **Used by Libraries**     | NumPy, PIL, memoryview, etc. |\n",
        "| **Key Functions**         | `memoryview()`, `bytes()`, `frombuffer()` |\n",
        "\n",
        "---\n",
        "\n",
        "## When to Use It?\n",
        "\n",
        "- You're dealing with **large binary data**\n",
        "- Interfacing with **C extensions**\n",
        "- Working with **multi-dimensional arrays**\n",
        "- Need **zero-copy slicing or views**\n",
        "\n",
        "---\n",
        "\n"
      ],
      "metadata": {
        "id": "sQtXHp5EJ6tB"
      },
      "id": "sQtXHp5EJ6tB"
    },
    {
      "cell_type": "code",
      "source": [
        "import numpy as np\n",
        "\n",
        "# Create a NumPy array\n",
        "a = np.array([1, 2, 3, 4], dtype=np.int32)\n",
        "\n",
        "# Get a memoryview of the array\n",
        "m = memoryview(a)\n",
        "print(\"Original array:\",id(a))\n",
        "\n",
        "print(\"Original array:\", a)\n",
        "\n",
        "# Modify the array via memoryview\n",
        "# Note: We're accessing the raw buffer\n",
        "m_obj = m.cast('B')  # Cast to bytes for byte-level access\n",
        "m_obj[0] = 0xFF      # Change one byte\n",
        "\n",
        "print(\"Modified array:\", a)\n",
        "print(\"modified array:\",id(a))"
      ],
      "metadata": {
        "colab": {
          "base_uri": "https://localhost:8080/"
        },
        "id": "A9jmKdRRKjq5",
        "outputId": "f4cf61a2-52fb-4646-eb43-f82bfcbf17c7"
      },
      "id": "A9jmKdRRKjq5",
      "execution_count": 2,
      "outputs": [
        {
          "output_type": "stream",
          "name": "stdout",
          "text": [
            "Original array: 134595111587440\n",
            "Original array: [1 2 3 4]\n",
            "Modified array: [255   2   3   4]\n",
            "modified array: 134595111587440\n"
          ]
        }
      ]
    },
    {
      "cell_type": "code",
      "source": [
        "data = b\"Hello, world!\"  # bytes object\n",
        "mv = memoryview(data)\n",
        "\n",
        "print(\"Bytes:\", data)\n",
        "print(\"Memoryview as bytes:\", mv.tobytes())\n",
        "print(\"Memoryview slice:\", mv[7:12].tobytes())  # Slices also share memory"
      ],
      "metadata": {
        "colab": {
          "base_uri": "https://localhost:8080/"
        },
        "id": "LiVVdzEBL6r9",
        "outputId": "9b8cfaea-b1a0-4dcb-cba0-8fa2e07f9c3e"
      },
      "id": "LiVVdzEBL6r9",
      "execution_count": 3,
      "outputs": [
        {
          "output_type": "stream",
          "name": "stdout",
          "text": [
            "Bytes: b'Hello, world!'\n",
            "Memoryview as bytes: b'Hello, world!'\n",
            "Memoryview slice: b'world'\n"
          ]
        }
      ]
    },
    {
      "cell_type": "code",
      "source": [
        "import time\n",
        "\n",
        "# Create a large bytes object (~100 MB)\n",
        "data = b\"A\" * 100_000_000\n",
        "\n",
        "# --- Normal slicing ---\n",
        "start = time.time()\n",
        "s1 = data[1_000_000 : 50_000_000]\n",
        "print(\"Time (normal slice):\", time.time() - start)\n",
        "\n",
        "# --- Memoryview slicing ---\n",
        "start = time.time()\n",
        "mv = memoryview(data)\n",
        "s2 = mv[1_000_000 : 50_000_000]\n",
        "print(\"Time (memoryview slice):\", time.time() - start)"
      ],
      "metadata": {
        "colab": {
          "base_uri": "https://localhost:8080/"
        },
        "id": "jSQ1bHNgM7YO",
        "outputId": "232e692f-eab8-467e-b539-4229d29933e5"
      },
      "id": "jSQ1bHNgM7YO",
      "execution_count": 4,
      "outputs": [
        {
          "output_type": "stream",
          "name": "stdout",
          "text": [
            "Time (normal slice): 0.04328274726867676\n",
            "Time (memoryview slice): 0.00018262863159179688\n"
          ]
        }
      ]
    },
    {
      "cell_type": "code",
      "execution_count": 5,
      "id": "63669d99",
      "metadata": {
        "colab": {
          "base_uri": "https://localhost:8080/"
        },
        "id": "63669d99",
        "outputId": "822f9900-be14-4627-9a51-f100c614b60a"
      },
      "outputs": [
        {
          "output_type": "stream",
          "name": "stdout",
          "text": [
            "array contents          : array('I', [0, 1, 2, 3, 4])\n",
            "itemsize (bytes)        : 4\n",
            "buffer nbytes           : 20\n",
            "raw bytes               : b'\\x00\\x00\\x00\\x00\\x01\\x00\\x00\\x00\\x02\\x00\\x00\\x00\\x03\\x00\\x00\\x00\\x04\\x00\\x00\\x00'\n"
          ]
        }
      ],
      "source": [
        "import array\n",
        "\n",
        "arr = array.array('I', range(5))   # unsigned int 32‑bit\n",
        "print(\"array contents          :\", arr)\n",
        "print(\"itemsize (bytes)        :\", arr.itemsize)\n",
        "print(\"buffer nbytes           :\", len(arr) * arr.itemsize)\n",
        "print(\"raw bytes               :\", arr.tobytes())"
      ]
    },
    {
      "cell_type": "code",
      "source": [
        "import array\n",
        "\n",
        "# Step 1: Create an array of unsigned 32-bit integers ('I' = uint32)\n",
        "arr = array.array('I', range(5))  # [0, 1, 2, 3, 4]\n",
        "\n",
        "print(\"Original array:\", arr)\n",
        "print(\"Itemsize (bytes):\", arr.itemsize)\n",
        "print(\"Total buffer size (bytes):\", len(arr) * arr.itemsize)\n",
        "print(\"Raw bytes:\", arr.tobytes())\n",
        "print()\n",
        "\n",
        "# Step 2: Get a memoryview of the array\n",
        "mv = memoryview(arr)\n",
        "\n",
        "print(\"Memoryview format:\", mv.format)       # 'I' for uint32\n",
        "print(\"Memoryview itemsize:\", mv.itemsize)   # 4 bytes\n",
        "print(\"Memoryview shape:\", mv.shape)         # (5,)\n",
        "print(\"Memoryview nbytes:\", mv.nbytes)       # 5 * 4 = 20 bytes\n",
        "print()\n",
        "\n",
        "# Step 3: Slice the memoryview (no copy!)\n",
        "slice_mv = mv[1:4]  # elements at index 1, 2, 3\n",
        "\n",
        "print(\"Slice (memoryview):\", slice_mv.tolist())  # Convert to list for readability\n",
        "print(\"Slice raw bytes:\", slice_mv.tobytes())\n",
        "print()\n",
        "\n",
        "# Step 4: Modify the array via memoryview slice\n",
        "# Note: We're modifying the original array in place!\n",
        "slice_mv[0] = 99  # This changes arr[1] to 99\n",
        "\n",
        "print(\"Modified array:\", arr)\n",
        "print(\"Raw bytes after modification:\", arr.tobytes())"
      ],
      "metadata": {
        "colab": {
          "base_uri": "https://localhost:8080/"
        },
        "id": "udBMmFA4OLy9",
        "outputId": "2a709b6e-74a2-4055-ee8d-7947b1a3a1ae"
      },
      "id": "udBMmFA4OLy9",
      "execution_count": 6,
      "outputs": [
        {
          "output_type": "stream",
          "name": "stdout",
          "text": [
            "Original array: array('I', [0, 1, 2, 3, 4])\n",
            "Itemsize (bytes): 4\n",
            "Total buffer size (bytes): 20\n",
            "Raw bytes: b'\\x00\\x00\\x00\\x00\\x01\\x00\\x00\\x00\\x02\\x00\\x00\\x00\\x03\\x00\\x00\\x00\\x04\\x00\\x00\\x00'\n",
            "\n",
            "Memoryview format: I\n",
            "Memoryview itemsize: 4\n",
            "Memoryview shape: (5,)\n",
            "Memoryview nbytes: 20\n",
            "\n",
            "Slice (memoryview): [1, 2, 3]\n",
            "Slice raw bytes: b'\\x01\\x00\\x00\\x00\\x02\\x00\\x00\\x00\\x03\\x00\\x00\\x00'\n",
            "\n",
            "Modified array: array('I', [0, 99, 2, 3, 4])\n",
            "Raw bytes after modification: b'\\x00\\x00\\x00\\x00c\\x00\\x00\\x00\\x02\\x00\\x00\\x00\\x03\\x00\\x00\\x00\\x04\\x00\\x00\\x00'\n"
          ]
        }
      ]
    },
    {
      "cell_type": "markdown",
      "id": "e399b97d",
      "metadata": {
        "id": "e399b97d"
      },
      "source": [
        "### 4. ASCII Diagram of sharing"
      ]
    },
    {
      "cell_type": "code",
      "source": [
        "original = bytearray(b\"Hello\")\n",
        "view = memoryview(original)\n",
        "''' +-----------+\n",
        "| original  | -\\\n",
        "+-----------+  \\\n",
        "                \\     +----------------------+\n",
        "                 ---> | bytearray in memory  |\n",
        "                /     | Content: b'Hello'    |\n",
        "+-----------+  /\n",
        "|  view     | -/\n",
        "+-----------+ '''"
      ],
      "metadata": {
        "id": "f717c358",
        "colab": {
          "base_uri": "https://localhost:8080/",
          "height": 53
        },
        "outputId": "86908950-f93f-474d-b4c3-fa2e7a362091"
      },
      "id": "f717c358",
      "execution_count": 8,
      "outputs": [
        {
          "output_type": "execute_result",
          "data": {
            "text/plain": [
              "\" +-----------+\\n| original  | -+-----------+                  \\\\     +----------------------+\\n                 ---> | bytearray in memory  |\\n                /     | Content: b'Hello'    |\\n+-----------+  /\\n|  view     | -/\\n+-----------+ \""
            ],
            "application/vnd.google.colaboratory.intrinsic+json": {
              "type": "string"
            }
          },
          "metadata": {},
          "execution_count": 8
        }
      ]
    },
    {
      "cell_type": "markdown",
      "id": "f345511d",
      "metadata": {
        "id": "f345511d"
      },
      "source": [
        "### 7. Buffer protocol with struct – treat as C array"
      ]
    },
    {
      "cell_type": "code",
      "execution_count": 9,
      "id": "f0cca60b",
      "metadata": {
        "colab": {
          "base_uri": "https://localhost:8080/"
        },
        "id": "f0cca60b",
        "outputId": "7018f3e4-0e86-4e2a-9cf1-d57c7b531796"
      },
      "outputs": [
        {
          "output_type": "stream",
          "name": "stdout",
          "text": [
            "\n",
            "Interpreting arr buffer via struct iter:\n",
            " index 0 = 0\n",
            " index 1 = 99\n",
            " index 2 = 2\n",
            " index 3 = 3\n",
            " index 4 = 4\n"
          ]
        }
      ],
      "source": [
        "import struct\n",
        "print(\"\\nInterpreting arr buffer via struct iter:\")\n",
        "buffer_bytes = arr.tobytes()\n",
        "for offset in range(0, len(buffer_bytes), 4):\n",
        "    val, = struct.unpack_from('I', buffer_bytes, offset)\n",
        "    print(\" index\", offset//4, \"=\", val)"
      ]
    },
    {
      "cell_type": "markdown",
      "source": [
        "\n",
        "---\n",
        "\n",
        "# 🔍 Interpreting Raw Bytes with `struct.unpack_from`\n",
        "\n",
        "This section demonstrates how to use the `struct` module to interpret the raw binary data stored in an array as individual unsigned 32-bit integers (`'I'` format).\n",
        "\n",
        "---\n",
        "\n",
        "## 🧠 Why Do This?\n",
        "\n",
        "The `.tobytes()` method returns the raw memory contents of the array as a `bytes` object. While this is useful for I/O or serialization, it's not human-readable. To make sense of it, we can unpack the bytes into actual values using `struct.unpack_from()`.\n",
        "\n",
        "---\n",
        "\n",
        "## 🧾 Code Breakdown\n",
        "\n",
        "```python\n",
        "import struct\n",
        "\n",
        "print(\"\\nInterpreting arr buffer via struct iter:\")\n",
        "buffer_bytes = arr.tobytes()\n",
        "for offset in range(0, len(buffer_bytes), 4):\n",
        "    val, = struct.unpack_from('I', buffer_bytes, offset)\n",
        "    print(\" index\", offset//4, \"=\", val)\n",
        "```\n",
        "\n",
        "### ✅ Step-by-Step Explanation\n",
        "\n",
        "| Line | Description |\n",
        "|------|-------------|\n",
        "| `import struct` | Import the `struct` module for interpreting bytes as packed binary data |\n",
        "| `buffer_bytes = arr.tobytes()` | Get the raw bytes from the array |\n",
        "| `for offset in range(0, len(buffer_bytes), 4):` | Loop over the byte buffer in steps of 4 bytes (since each `'I'` is 4 bytes) |\n",
        "| `val, = struct.unpack_from('I', buffer_bytes, offset)` | Unpack 4 bytes starting at `offset` as an unsigned int (`'I'`) |\n",
        "| `print(\" index\", offset//4, \"=\", val)` | Print the original index and value |\n",
        "\n",
        "---\n",
        "\n",
        "## 📊 Example Output\n",
        "\n",
        "Given:\n",
        "\n",
        "```python\n",
        "arr = array.array('I', [0, 99, 2, 3, 4])\n",
        "```\n",
        "\n",
        "Output might look like:\n",
        "\n",
        "```\n",
        "Interpreting arr buffer via struct iter:\n",
        " index 0 = 0\n",
        " index 1 = 99\n",
        " index 2 = 2\n",
        " index 3 = 3\n",
        " index 4 = 4\n",
        "```\n",
        "\n",
        "This confirms that we're correctly reading back the same values stored in the array.\n",
        "\n",
        "---\n",
        "\n",
        "## 🧪 What Does `struct.unpack_from(...)` Do?\n",
        "\n",
        "- `'I'` → Format character for **unsigned int (4 bytes)**.\n",
        "- `buffer_bytes` → The raw byte buffer to read from.\n",
        "- `offset` → Position in bytes to start reading.\n",
        "\n",
        "It’s similar to pointer arithmetic in C — you're manually walking through memory and interpreting chunks of bytes as specific types.\n",
        "\n",
        "---\n",
        "\n",
        "## ⚠️ Important Notes\n",
        "\n",
        "- `struct.unpack_from()` does **not require a copy** of the data — it works directly on the buffer.\n",
        "- You must know the correct **format string** (`'I'`, `'i'`, `'f'`, etc.) to match the data type.\n",
        "- The trailing comma in `val, = ...` is important: `unpack_from()` returns a tuple even for one item.\n",
        "\n",
        "---\n",
        "\n",
        "## 🧠 Use Cases\n",
        "\n",
        "This technique is useful when:\n",
        "\n",
        "- Parsing binary file formats (like BMP, WAV, etc.)\n",
        "- Reading network packets\n",
        "- Debugging low-level memory representations\n",
        "- Working with memory-mapped files or hardware buffers\n",
        "\n",
        "---\n",
        "\n",
        "## 🧩 Summary Table\n",
        "\n",
        "| Concept | Description |\n",
        "|--------|-------------|\n",
        "| `arr.tobytes()` | Gets the raw memory of the array |\n",
        "| `struct.unpack_from()` | Reads values from raw bytes without copying |\n",
        "| `'I'` | Format for unsigned 32-bit integer |\n",
        "| `offset` | Byte position to start reading |\n",
        "| Zero-copy? | ✅ Yes — very efficient for large data |\n",
        "\n",
        "---\n",
        "\n"
      ],
      "metadata": {
        "id": "lhEfvwhzQiVG"
      },
      "id": "lhEfvwhzQiVG"
    },
    {
      "cell_type": "markdown",
      "id": "f500192a",
      "metadata": {
        "id": "f500192a"
      },
      "source": [
        "### 8. When NOT to use memoryview\n",
        "- When the producer object may resize, invalidating pointers (e.g. list).\n",
        "- When you truly need a *copy* that is safe from source mutation.\n",
        "- Over networks or multi-process boundaries without proper locking."
      ]
    }
  ],
  "metadata": {
    "colab": {
      "provenance": []
    },
    "language_info": {
      "name": "python"
    },
    "kernelspec": {
      "name": "python3",
      "display_name": "Python 3"
    }
  },
  "nbformat": 4,
  "nbformat_minor": 5
}