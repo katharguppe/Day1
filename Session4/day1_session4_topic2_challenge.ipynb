{
 "cells": [
  {
   "cell_type": "markdown",
   "id": "577283f0",
   "metadata": {},
   "source": [
    "# Session 4 - Topic 4: Challenge\n",
    "### Reverse a Large Array via memoryview (zero copy)\n",
    "**Goal**: Implement `reverse_inplace(buf)` that reverses the order of elements in an `array.array` *without* allocating another large buffer.\n",
    "\n",
    "**Constraints**:\n",
    "- Works for any type code (e.g., `'I'`, `'f'`)\n",
    "- No second large buffer or object\n",
    "- Runtime: O(n), Memory: O(1)\n",
    "- Use `memoryview` and swap in-place\n"
   ]
  },
  {
   "cell_type": "code",
   "execution_count": null,
   "id": "629f9482",
   "metadata": {},
   "outputs": [],
   "source": [
    "import array\n",
    "\n",
    "def reverse_inplace(buf):\n",
    "    \"\"\"\n",
    "    Temporary stub so the script runs without raising an error.\n",
    "    Does nothing except print a reminder.\n",
    "    \"\"\"\n",
    "    print(\"reverse_inplace() is still a stub no action taken.\")\n",
    "    # You could also use:  pass"
   ]
  },
  {
   "cell_type": "code",
   "execution_count": null,
   "id": "fde44109",
   "metadata": {},
   "outputs": [],
   "source": [
    "# Demo / test helper\n",
    "if __name__ == \"__main__\":\n",
    "    arr = array.array('I', range(10))\n",
    "    print(\"Before:\", list(arr))\n",
    "    reverse_inplace(arr)          # expected to reverse contents\n",
    "    print(\"After :\", list(arr))"
   ]
  }
 ],
 "metadata": {},
 "nbformat": 4,
 "nbformat_minor": 5
}
