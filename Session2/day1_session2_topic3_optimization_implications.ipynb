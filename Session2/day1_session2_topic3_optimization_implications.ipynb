{
  "cells": [
    {
      "cell_type": "markdown",
      "source": [
        "\"\"\"\n",
        "Session 2 - Topic 3\n",
        "===================\n",
        "Optimization Implications - DEEP DIVE\n"
      ],
      "metadata": {
        "id": "22ccae77"
      },
      "id": "22ccae77"
    },
    {
      "cell_type": "markdown",
      "source": [
        "\"\"\"\n",
        "\n",
        "# =====================================\n",
        "# 1. Why Optimization Implications Matter\n",
        "# =====================================\n"
      ],
      "metadata": {
        "id": "09dfc807"
      },
      "id": "09dfc807"
    },
    {
      "cell_type": "markdown",
      "source": [
        "\"\"\"\n",
        "- Python is an interpreted language. Execution speed depends not just on algorithm but *how* you write the code.\n",
        "- Different constructs (generator, list comp, global vs local) emit different bytecode.\n",
        "- Some cause heavier GC load, others cause deeper call stacks.\n",
        "- Understanding these differences is key to tuning critical paths.\n"
      ],
      "metadata": {
        "id": "d7706885"
      },
      "id": "d7706885"
    },
    {
      "cell_type": "markdown",
      "source": [
        "\"\"\"\n",
        "\n",
        "# =====================================\n",
        "# 2. Generator vs List Comprehension\n",
        "# =====================================\n"
      ],
      "metadata": {
        "id": "f15ae6d2"
      },
      "id": "f15ae6d2"
    },
    {
      "cell_type": "markdown",
      "source": [
        "\n",
        "Generators are lazy — they produce values one by one.\n",
        "List comprehensions build entire lists in memory immediately.\n",
        "\n",
        "Memory vs speed tradeoff:\n",
        "- Small data: list may be faster.\n",
        "- Huge data: generator wins (no RAM bloat).\n",
        "\n",
        "Bytecode for both shows critical differences.\n"
      ],
      "metadata": {
        "id": "3bfbb2ea"
      },
      "id": "3bfbb2ea"
    },
    {
      "cell_type": "markdown",
      "source": [
        "Sure! Here's the simplified version of the Markdown with no \"**bold**\", no \"do you want\" or \"let's explore\", and shorter, direct sentences. You can paste this directly into your notebook.\n",
        "\n",
        "---\n",
        "\n",
        "````markdown\n",
        "# List Comprehension vs Generator Expression\n",
        "\n",
        "This compares list comprehensions and generator expressions using bytecode, time, and memory.\n",
        "\n",
        "---\n",
        "\n",
        "## 1. Code\n",
        "\n",
        "def list_comp():\n",
        "    return [i * i for i in range(10000)]\n",
        "\n",
        "def generator_expr():\n",
        "    return (i * i for i in range(10000))\n",
        "\n",
        "def sum_with_generator():\n",
        "    return sum(i * i for i in range(10000))\n",
        "````\n",
        "\n",
        "---\n",
        "\n",
        "## 2. Bytecode\n",
        "\n",
        "Use `dis.dis()` to check instructions.\n",
        "\n",
        "list\\_comp uses:\n",
        "\n",
        "* BUILD\\_LIST\n",
        "* LIST\\_APPEND\n",
        "* All values computed and stored\n",
        "\n",
        "generator\\_expr uses:\n",
        "\n",
        "* BUILD\\_GENEXPR\n",
        "* YIELD\\_VALUE\n",
        "* Values are delayed until needed\n",
        "\n",
        "---\n",
        "\n",
        "## 3. Timing\n",
        "\n",
        "Each function runs 500 times using timeit.\n",
        "\n",
        "| Function             | Time (sec) |\n",
        "| -------------------- | ---------- |\n",
        "| list\\_comp           | \\~0.08     |\n",
        "| generator\\_expr      | \\~0.0008   |\n",
        "| sum\\_with\\_generator | \\~0.06     |\n",
        "\n",
        "Creating a generator is very fast.\n",
        "list\\_comp is faster if all values are needed now.\n",
        "sum\\_with\\_generator is slower because each value is called lazily.\n",
        "\n",
        "---\n",
        "\n",
        "## 4. Memory\n",
        "\n",
        "Use tracemalloc to check memory.\n",
        "\n",
        "| Function             | Memory (KB) |\n",
        "| -------------------- | ----------- |\n",
        "| list\\_comp           | High        |\n",
        "| generator\\_expr      | Very low    |\n",
        "| sum\\_with\\_generator | Low         |\n",
        "\n",
        "list\\_comp keeps all values in memory.\n",
        "generator\\_expr just stores the iterator.\n",
        "sum\\_with\\_generator pulls one item at a time.\n",
        "\n",
        "---\n",
        "\n",
        "## 5. Summary\n",
        "\n",
        "Use list\\_comp if:\n",
        "\n",
        "* You need all values\n",
        "* You have enough memory\n",
        "\n",
        "Use generator if:\n",
        "\n",
        "* You only loop once\n",
        "* Memory matters\n",
        "* You don’t need to keep the data\n",
        "\n",
        "```\n",
        "```\n"
      ],
      "metadata": {
        "id": "VyPtaQY1Zk6q"
      },
      "id": "VyPtaQY1Zk6q"
    },
    {
      "cell_type": "code",
      "execution_count": 4,
      "id": "fd45dabd",
      "metadata": {
        "colab": {
          "base_uri": "https://localhost:8080/"
        },
        "id": "fd45dabd",
        "outputId": "f3abff20-382a-4c4f-b77b-657af010cb95"
      },
      "outputs": [
        {
          "output_type": "stream",
          "name": "stdout",
          "text": [
            "\n",
            "Disassembly of List Comprehension:\n",
            "  6           0 RESUME                   0\n",
            "\n",
            "  7           2 LOAD_CONST               1 (<code object <listcomp> at 0x7fcc7eab2ce0, file \"<ipython-input-4-219c454cc867>\", line 7>)\n",
            "              4 MAKE_FUNCTION            0\n",
            "              6 LOAD_GLOBAL              1 (NULL + range)\n",
            "             18 LOAD_CONST               2 (10000)\n",
            "             20 PRECALL                  1\n",
            "             24 CALL                     1\n",
            "             34 GET_ITER\n",
            "             36 PRECALL                  0\n",
            "             40 CALL                     0\n",
            "             50 RETURN_VALUE\n",
            "\n",
            "Disassembly of <code object <listcomp> at 0x7fcc7eab2ce0, file \"<ipython-input-4-219c454cc867>\", line 7>:\n",
            "  7           0 RESUME                   0\n",
            "              2 BUILD_LIST               0\n",
            "              4 LOAD_FAST                0 (.0)\n",
            "        >>    6 FOR_ITER                 7 (to 22)\n",
            "              8 STORE_FAST               1 (i)\n",
            "             10 LOAD_FAST                1 (i)\n",
            "             12 LOAD_FAST                1 (i)\n",
            "             14 BINARY_OP                5 (*)\n",
            "             18 LIST_APPEND              2\n",
            "             20 JUMP_BACKWARD            8 (to 6)\n",
            "        >>   22 RETURN_VALUE\n",
            "\n",
            "Disassembly of Generator Expression:\n",
            "  9           0 RESUME                   0\n",
            "\n",
            " 10           2 LOAD_CONST               1 (<code object <genexpr> at 0x7fcc7ea497d0, file \"<ipython-input-4-219c454cc867>\", line 10>)\n",
            "              4 MAKE_FUNCTION            0\n",
            "              6 LOAD_GLOBAL              1 (NULL + range)\n",
            "             18 LOAD_CONST               2 (10000)\n",
            "             20 PRECALL                  1\n",
            "             24 CALL                     1\n",
            "             34 GET_ITER\n",
            "             36 PRECALL                  0\n",
            "             40 CALL                     0\n",
            "             50 RETURN_VALUE\n",
            "\n",
            "Disassembly of <code object <genexpr> at 0x7fcc7ea497d0, file \"<ipython-input-4-219c454cc867>\", line 10>:\n",
            " 10           0 RETURN_GENERATOR\n",
            "              2 POP_TOP\n",
            "              4 RESUME                   0\n",
            "              6 LOAD_FAST                0 (.0)\n",
            "        >>    8 FOR_ITER                 9 (to 28)\n",
            "             10 STORE_FAST               1 (i)\n",
            "             12 LOAD_FAST                1 (i)\n",
            "             14 LOAD_FAST                1 (i)\n",
            "             16 BINARY_OP                5 (*)\n",
            "             20 YIELD_VALUE\n",
            "             22 RESUME                   1\n",
            "             24 POP_TOP\n",
            "             26 JUMP_BACKWARD           10 (to 8)\n",
            "        >>   28 LOAD_CONST               0 (None)\n",
            "             30 RETURN_VALUE\n",
            "\n",
            "Timing Comparison (500 runs each):\n",
            "List Comprehension (build list): 0.24765 sec\n",
            "Generator Expression (create gen): 0.00028 sec\n",
            "Sum via Generator: 0.33122 sec\n",
            "\n",
            "Memory Usage Comparison:\n",
            "List Comprehension: 395.81 KB\n",
            "Generator Expression (no iteration): 0.62 KB\n",
            "Sum via Generator (full iteration): 4.87 KB\n"
          ]
        }
      ],
      "source": [
        "import dis\n",
        "import timeit\n",
        "import tracemalloc\n",
        "\n",
        "# 1. Example functions\n",
        "def list_comp():\n",
        "    return [i * i for i in range(10000)]\n",
        "\n",
        "def generator_expr():\n",
        "    return (i * i for i in range(10000))  # Just return the generator\n",
        "\n",
        "def sum_with_generator():\n",
        "    return sum(i * i for i in range(10000))\n",
        "\n",
        "# 2. Disassembly\n",
        "print(\"\\nDisassembly of List Comprehension:\")\n",
        "dis.dis(list_comp)\n",
        "\n",
        "print(\"\\nDisassembly of Generator Expression:\")\n",
        "dis.dis(generator_expr)\n",
        "\n",
        "# 3. Timing comparison\n",
        "print(\"\\nTiming Comparison (500 runs each):\")\n",
        "lc_time = timeit.timeit(list_comp, number=500)\n",
        "gen_time = timeit.timeit(generator_expr, number=500)\n",
        "sum_gen_time = timeit.timeit(sum_with_generator, number=500)\n",
        "\n",
        "print(f\"List Comprehension (build list): {lc_time:.5f} sec\")\n",
        "print(f\"Generator Expression (create gen): {gen_time:.5f} sec\")\n",
        "print(f\"Sum via Generator: {sum_gen_time:.5f} sec\")\n",
        "\n",
        "# 4. Memory comparison\n",
        "def memory_usage(func):\n",
        "    tracemalloc.start()\n",
        "    func()\n",
        "    current, peak = tracemalloc.get_traced_memory()\n",
        "    tracemalloc.stop()\n",
        "    return peak\n",
        "\n",
        "print(\"\\nMemory Usage Comparison:\")\n",
        "lc_mem = memory_usage(list_comp)\n",
        "gen_mem = memory_usage(generator_expr)\n",
        "sum_gen_mem = memory_usage(sum_with_generator)\n",
        "\n",
        "print(f\"List Comprehension: {lc_mem / 1024:.2f} KB\")\n",
        "print(f\"Generator Expression (no iteration): {gen_mem / 1024:.2f} KB\")\n",
        "print(f\"Sum via Generator (full iteration): {sum_gen_mem / 1024:.2f} KB\")"
      ]
    },
    {
      "cell_type": "markdown",
      "source": [
        "\"\"\"\n",
        "Python accesses:\n",
        "- Locals: via LOAD_FAST (array lookup, O(1))\n",
        "- Globals: via LOAD_GLOBAL (dictionary lookup, slower)\n",
        "\n",
        "You should favor locals inside hot loops.\n"
      ],
      "metadata": {
        "id": "3bfcda62"
      },
      "id": "3bfcda62"
    },
    {
      "cell_type": "markdown",
      "source": [
        "\"\"\"\n",
        "Each function call:\n",
        "- Allocates a new PyFrameObject\n",
        "- Pushes/pops stack frames\n",
        "- Adds slight latency (~0.2 - 0.5 microseconds per call)\n",
        "\n",
        "In deeply nested recursion or tight loops, this adds up.\n",
        "Iteration often beats recursion unless tail call optimized (which Python doesn't do!).\n"
      ],
      "metadata": {
        "id": "850f1de8"
      },
      "id": "850f1de8"
    },
    {
      "cell_type": "code",
      "execution_count": 9,
      "id": "afb688d3",
      "metadata": {
        "colab": {
          "base_uri": "https://localhost:8080/"
        },
        "id": "afb688d3",
        "outputId": "0e0cbd0f-94ee-4651-d763-529c6a63562e"
      },
      "outputs": [
        {
          "output_type": "stream",
          "name": "stdout",
          "text": [
            "\n",
            "Disassembly of Recursive Sum:\n",
            "  5           0 RESUME                   0\n",
            "\n",
            "  6           2 LOAD_FAST                0 (n)\n",
            "              4 LOAD_CONST               1 (0)\n",
            "              6 COMPARE_OP               2 (==)\n",
            "             12 POP_JUMP_FORWARD_IF_FALSE     2 (to 18)\n",
            "\n",
            "  7          14 LOAD_CONST               1 (0)\n",
            "             16 RETURN_VALUE\n",
            "\n",
            "  8     >>   18 LOAD_FAST                0 (n)\n",
            "             20 LOAD_GLOBAL              1 (NULL + recursive_sum)\n",
            "             32 LOAD_FAST                0 (n)\n",
            "             34 LOAD_CONST               2 (1)\n",
            "             36 BINARY_OP               10 (-)\n",
            "             40 PRECALL                  1\n",
            "             44 CALL                     1\n",
            "             54 BINARY_OP                0 (+)\n",
            "             58 RETURN_VALUE\n",
            "\n",
            "Disassembly of Iterative Sum:\n",
            " 11           0 RESUME                   0\n",
            "\n",
            " 12           2 LOAD_CONST               1 (0)\n",
            "              4 STORE_FAST               1 (total)\n",
            "\n",
            " 13           6 LOAD_GLOBAL              1 (NULL + range)\n",
            "             18 LOAD_FAST                0 (n)\n",
            "             20 LOAD_CONST               2 (1)\n",
            "             22 BINARY_OP                0 (+)\n",
            "             26 PRECALL                  1\n",
            "             30 CALL                     1\n",
            "             40 GET_ITER\n",
            "        >>   42 FOR_ITER                 7 (to 58)\n",
            "             44 STORE_FAST               2 (i)\n",
            "\n",
            " 14          46 LOAD_FAST                1 (total)\n",
            "             48 LOAD_FAST                2 (i)\n",
            "             50 BINARY_OP               13 (+=)\n",
            "             54 STORE_FAST               1 (total)\n",
            "             56 JUMP_BACKWARD            8 (to 42)\n",
            "\n",
            " 15     >>   58 LOAD_FAST                1 (total)\n",
            "             60 RETURN_VALUE\n",
            "\n",
            "Timing Recursive vs Iterative Sum (n=500, 10,000 runs):\n",
            "Recursive Sum: 1.14636 sec\n",
            "Iterative Sum: 0.37451 sec\n"
          ]
        }
      ],
      "source": [
        "import dis\n",
        "import timeit\n",
        "\n",
        "# 1. Recursive Sum\n",
        "def recursive_sum(n):\n",
        "    if n == 0:\n",
        "        return 0\n",
        "    return n + recursive_sum(n - 1)\n",
        "\n",
        "# 2. Iterative Sum\n",
        "def iterative_sum(n):\n",
        "    total = 0\n",
        "    for i in range(n + 1):\n",
        "        total += i\n",
        "    return total\n",
        "\n",
        "# 3. Disassemble both functions\n",
        "print(\"\\nDisassembly of Recursive Sum:\")\n",
        "dis.dis(recursive_sum)\n",
        "\n",
        "print(\"\\nDisassembly of Iterative Sum:\")\n",
        "dis.dis(iterative_sum)\n",
        "\n",
        "# 4. Timing comparison\n",
        "print(\"\\nTiming Recursive vs Iterative Sum (n=500, 10,000 runs):\")\n",
        "rec_time = timeit.timeit('recursive_sum(500)', globals=globals(), number=10000)\n",
        "iter_time = timeit.timeit('iterative_sum(500)', globals=globals(), number=10000)\n",
        "\n",
        "print(f\"Recursive Sum: {rec_time:.5f} sec\")\n",
        "print(f\"Iterative Sum: {iter_time:.5f} sec\")"
      ]
    },
    {
      "cell_type": "markdown",
      "source": [
        "🧨 Overhead Lines Explained\n",
        "Let’s look at the key instructions that cause overhead in recursion:\n",
        "\n",
        "1. LOAD_GLOBAL 0 (recursive_sum)\n",
        "Loads the function object from the global namespace.\n",
        "This is required every time you make a recursive call — not free.\n",
        "It involves dictionary lookups if it's not cached (though Python caches this for performance).\n",
        "2. CALL_FUNCTION 1\n",
        "This is the most expensive line in recursion.\n",
        "It does:\n",
        "Creates a new stack frame\n",
        "Copies arguments (n-1 in this case)\n",
        "Saves the current execution context (so we can return later)\n",
        "Pushes the new frame onto the Python call stack\n",
        "Every recursive call creates a new function activation record/frame , which consumes memory and CPU time.\n",
        "3. RETURN_VALUE\n",
        "Pops the current frame off the stack and returns control to the caller.\n",
        "Each return requires restoring the previous frame, registers, instruction pointer, etc.\n",
        "Again, repeated thousands of times → overhead."
      ],
      "metadata": {
        "id": "WaO6K_tHcfSs"
      },
      "id": "WaO6K_tHcfSs"
    },
    {
      "cell_type": "markdown",
      "source": [
        "\"\"\"\n",
        "Object construction matters.\n",
        "\n",
        "- Tuples are slightly cheaper than lists.\n",
        "- Attribute lookup is slower than dictionary direct lookup.\n"
      ],
      "metadata": {
        "id": "7682d911"
      },
      "id": "7682d911"
    },
    {
      "cell_type": "code",
      "execution_count": 12,
      "id": "d14b3d1a",
      "metadata": {
        "colab": {
          "base_uri": "https://localhost:8080/"
        },
        "id": "d14b3d1a",
        "outputId": "033aec71-b8f9-45bc-82d5-abf1d41aa395"
      },
      "outputs": [
        {
          "output_type": "stream",
          "name": "stdout",
          "text": [
            "\n",
            "Disassembly of create_list:\n",
            "  5           0 RESUME                   0\n",
            "\n",
            "  6           2 BUILD_LIST               0\n",
            "              4 LOAD_CONST               1 ((1, 2, 3, 4, 5))\n",
            "              6 LIST_EXTEND              1\n",
            "              8 RETURN_VALUE\n",
            "\n",
            "Disassembly of create_tuple:\n",
            "  8           0 RESUME                   0\n",
            "\n",
            "  9           2 LOAD_CONST               1 ((1, 2, 3, 4, 5))\n",
            "              4 RETURN_VALUE\n",
            "\n",
            "Disassembly of access_list:\n",
            " 11           0 RESUME                   0\n",
            "\n",
            " 12           2 BUILD_LIST               0\n",
            "              4 LOAD_CONST               1 ((1, 2, 3, 4, 5))\n",
            "              6 LIST_EXTEND              1\n",
            "              8 STORE_FAST               0 (lst)\n",
            "\n",
            " 13          10 LOAD_FAST                0 (lst)\n",
            "             12 LOAD_CONST               2 (2)\n",
            "             14 BINARY_SUBSCR\n",
            "             24 RETURN_VALUE\n",
            "\n",
            "Disassembly of access_tuple:\n",
            " 15           0 RESUME                   0\n",
            "\n",
            " 16           2 LOAD_CONST               1 ((1, 2, 3, 4, 5))\n",
            "              4 STORE_FAST               0 (tpl)\n",
            "\n",
            " 17           6 LOAD_FAST                0 (tpl)\n",
            "              8 LOAD_CONST               2 (2)\n",
            "             10 BINARY_SUBSCR\n",
            "             20 RETURN_VALUE\n",
            "\n",
            "Timing Comparison (10 million runs):\n",
            "List creation: 0.90648 sec\n",
            "Tuple creation: 0.46618 sec\n",
            "List access: 1.07619 sec\n",
            "Tuple access: 0.60001 sec\n"
          ]
        }
      ],
      "source": [
        "import dis\n",
        "import timeit\n",
        "\n",
        "# 1. Functions to compare\n",
        "def create_list():\n",
        "    return [1, 2, 3, 4, 5]\n",
        "\n",
        "def create_tuple():\n",
        "    return (1, 2, 3, 4, 5)\n",
        "\n",
        "def access_list():\n",
        "    lst = [1, 2, 3, 4, 5]\n",
        "    return lst[2]\n",
        "\n",
        "def access_tuple():\n",
        "    tpl = (1, 2, 3, 4, 5)\n",
        "    return tpl[2]\n",
        "\n",
        "# 2. Disassemble creation and access\n",
        "print(\"\\nDisassembly of create_list:\")\n",
        "dis.dis(create_list)\n",
        "\n",
        "print(\"\\nDisassembly of create_tuple:\")\n",
        "dis.dis(create_tuple)\n",
        "\n",
        "print(\"\\nDisassembly of access_list:\")\n",
        "dis.dis(access_list)\n",
        "\n",
        "print(\"\\nDisassembly of access_tuple:\")\n",
        "dis.dis(access_tuple)\n",
        "\n",
        "# 3. Timing comparison\n",
        "print(\"\\nTiming Comparison (10 million runs):\")\n",
        "list_create_time = timeit.timeit('create_list()', globals=globals(), number=10_000_000)\n",
        "tuple_create_time = timeit.timeit('create_tuple()', globals=globals(), number=10_000_000)\n",
        "list_access_time = timeit.timeit('access_list()', globals=globals(), number=10_000_000)\n",
        "tuple_access_time = timeit.timeit('access_tuple()', globals=globals(), number=10_000_000)\n",
        "\n",
        "print(f\"List creation: {list_create_time:.5f} sec\")\n",
        "print(f\"Tuple creation: {tuple_create_time:.5f} sec\")\n",
        "print(f\"List access: {list_access_time:.5f} sec\")\n",
        "print(f\"Tuple access: {tuple_access_time:.5f} sec\")"
      ]
    },
    {
      "cell_type": "markdown",
      "source": [
        "\"\"\"\n",
        "Proper benchmarking tips:\n",
        "- Use timeit — it avoids common timing traps.\n",
        "- Warm up the function before timing (avoid cold start anomalies).\n",
        "- Repeat multiple times to observe variance.\n",
        "- Ignore results unless >10% improvement in real-world cases.\n"
      ],
      "metadata": {
        "id": "69ac86d8"
      },
      "id": "69ac86d8"
    },
    {
      "cell_type": "markdown",
      "source": [
        "\"\"\"\n",
        "\n",
        "# =====================================\n",
        "# 7. When NOT to Optimize\n",
        "# =====================================\n"
      ],
      "metadata": {
        "id": "d599ac19"
      },
      "id": "d599ac19"
    },
    {
      "cell_type": "markdown",
      "source": [
        "\"\"\"\n",
        "DO NOT:\n",
        "- Optimize readability-critical code unless profiling shows major gain.\n",
        "- Fight Python's dynamic nature: heavy C-like micro-optimizations usually harm clarity without huge speed gain.\n",
        "- Focus on single function benchmarks in isolation — system effects matter.\n",
        "\n",
        "ALWAYS:\n",
        "- Profile first (cProfile, timeit, tracemalloc).\n",
        "- Optimize data structures before algorithm internals.\n",
        "- Optimize ONLY your real bottlenecks.\n"
      ],
      "metadata": {
        "id": "a2950d16"
      },
      "id": "a2950d16"
    },
    {
      "cell_type": "markdown",
      "source": [
        "\"\"\"\n",
        "\n",
        "# ===========================\n",
        "# END OF TOPIC 3\n",
        "# ===========================\n"
      ],
      "metadata": {
        "id": "2edb3f24"
      },
      "id": "2edb3f24"
    }
  ],
  "metadata": {
    "colab": {
      "provenance": []
    },
    "language_info": {
      "name": "python"
    },
    "kernelspec": {
      "name": "python3",
      "display_name": "Python 3"
    }
  },
  "nbformat": 4,
  "nbformat_minor": 5
}