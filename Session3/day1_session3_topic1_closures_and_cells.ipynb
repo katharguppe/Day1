{
  "cells": [
    {
      "cell_type": "markdown",
      "id": "b6a872e2",
      "metadata": {
        "id": "b6a872e2"
      },
      "source": [
        "Session 3 - Topic 1\n",
        "===================\n",
        "Closures and Cell Objects (DEEP Dive)"
      ]
    },
    {
      "cell_type": "markdown",
      "id": "b21f8ef8",
      "metadata": {
        "id": "b21f8ef8"
      },
      "source": [
        "===================================================\n",
        "# 1. What is a Closure in Python?\n",
        "# ===================================================\n",
        "\n",
        "A closure is a function that:\n",
        "1. Is defined inside another function (a *nested function*), AND\n",
        "2. Remembers and has access to variables from the outer function’s scope\n",
        "   even AFTER the outer function has finished execution."
      ]
    },
    {
      "cell_type": "markdown",
      "source": [
        "\n",
        "\n",
        "---\n",
        "\n",
        "# 🧠 Understanding Closures in Python\n",
        "\n",
        "Closures are a powerful feature in Python that allow functions to **retain access to variables from the scope in which they were defined**, even after that scope has finished executing.\n",
        "\n",
        "This enables **lexical scoping** and **persistent state**, making closures a great alternative to using global variables or classes for simple state management.\n",
        "\n",
        "---\n",
        "\n",
        "## 🔍 What is a Closure?\n",
        "\n",
        "A **closure** is a function object that remembers values in the enclosing scope, even if those values are not explicitly passed as arguments.\n",
        "\n",
        "In simpler terms:\n",
        "- A closure is an inner function that remembers and has access to variables from the outer (enclosing) function.\n",
        "- The outer function returns the inner function (not calling it), allowing it to be used later while still retaining access to its original environment.\n",
        "\n",
        "---\n",
        "\n",
        "## ✅ Example: Counter Using Closure\n",
        "\n",
        "Let's build a counter without using global variables or classes:\n",
        "\n",
        "```python\n",
        "def make_counter():\n",
        "    count = 0  # This variable will be remembered by the closure\n",
        "\n",
        "    def counter():\n",
        "        nonlocal count  # Allows modification of the outer variable\n",
        "        count += 1\n",
        "        return count\n",
        "    \n",
        "    return counter\n",
        "\n",
        "# Create a counter\n",
        "counter_a = make_counter()\n",
        "\n",
        "print(counter_a())  # Output: 1\n",
        "print(counter_a())  # Output: 2\n",
        "print(counter_a())  # Output: 3\n",
        "```\n",
        "\n",
        "### 💡 Output Explanation\n",
        "\n",
        "Each time `counter_a()` is called, it increments and returns the internal `count` variable — all without using any global state.\n",
        "\n",
        "---\n",
        "\n",
        "## 📦 Inspecting the Closure Internally\n",
        "\n",
        "Python uses special **cell objects** to store variables shared between scopes in a closure.\n",
        "\n",
        "You can inspect these via the `__closure__` attribute:\n",
        "\n",
        "```python\n",
        "print(counter_a.__closure__)\n",
        "# Output: (<cell at 0x...: int object at 0x...>,)\n",
        "```\n",
        "\n",
        "Each item in `__closure__` is a **cell** containing a reference to a variable captured from the outer scope.\n",
        "\n",
        "---\n",
        "\n",
        "## 🧩 Multiple Independent Counters\n",
        "\n",
        "Each call to `make_counter()` creates a new, isolated closure with its own internal state:\n",
        "\n",
        "```python\n",
        "counter_b = make_counter()\n",
        "\n",
        "print(counter_b())  # Output: 1\n",
        "print(counter_a())  # Output: 4 — continues from earlier!\n",
        "```\n",
        "\n",
        "Here, `counter_a` and `counter_b` maintain separate states — showing how closures enable encapsulation.\n",
        "\n",
        "---\n",
        "\n",
        "## 🌟 Benefits of Using Closures\n",
        "\n",
        "| Benefit | Description |\n",
        "|--------|-------------|\n",
        "| **Avoids Global Variables** | Keeps data private within function scope instead of polluting the global namespace. |\n",
        "| **Encapsulates State** | Each closure maintains its own independent state — no need for external tracking. |\n",
        "| **Reduces Side Effects** | Since closures manage their own state internally, you avoid unintended modifications from other parts of the code. |\n",
        "| **Simplifies Code Structure** | Useful for small-scale stateful logic without needing full classes or modules. |\n",
        "| **Supports Functional Programming** | Enables patterns like factories, decorators, and partial application. |\n",
        "\n",
        "---\n",
        "\n",
        "## 🚫 Avoiding Side Effects with Closures\n",
        "\n",
        "Using global variables or mutable shared state often leads to **side effects** — where one part of the program unintentionally affects another.\n",
        "\n",
        "With closures, the internal state is **isolated** and only accessible through controlled interfaces (the returned function), reducing the risk of accidental interference.\n",
        "\n",
        "### Example Without Closure (Using Global):\n",
        "\n",
        "```python\n",
        "count = 0\n",
        "\n",
        "def bad_counter():\n",
        "    global count\n",
        "    count += 1\n",
        "    return count\n",
        "\n",
        "print(bad_counter())  # 1\n",
        "print(bad_counter())  # 2\n",
        "```\n",
        "\n",
        "This introduces a **global variable**, which could be modified anywhere else in the code — leading to bugs.\n",
        "\n",
        "---\n",
        "\n",
        "## 🧱 Comparison: Closure vs Class\n",
        "\n",
        "| Feature | Closure | Class |\n",
        "|--------|---------|-------|\n",
        "| Simplicity | ✅ Minimal syntax for small stateful logic | More boilerplate (`__init__`, methods, etc.) |\n",
        "| Encapsulation | ✅ Private state via lexical scope | Requires `self._private` conventions |\n",
        "| Use Case | Good for lightweight, single-purpose state | Better for complex state and behavior |\n",
        "\n",
        "Example with class:\n",
        "\n",
        "```python\n",
        "class Counter:\n",
        "    def __init__(self):\n",
        "        self.count = 0\n",
        "    \n",
        "    def __call__(self):\n",
        "        self.count += 1\n",
        "        return self.count\n",
        "\n",
        "counter_c = Counter()\n",
        "print(counter_c())  # 1\n",
        "print(counter_c())  # 2\n",
        "```\n",
        "\n",
        "Both approaches work well — but closures offer a **lighter-weight functional alternative**.\n",
        "\n",
        "---\n",
        "\n",
        "## 🎯 When to Use Closures\n",
        "\n",
        "- Creating utility functions that carry some internal state.\n",
        "- Building factory functions that generate customized functions.\n",
        "- Writing decorators (which heavily rely on closures).\n",
        "- Managing configuration or counters without relying on global variables.\n",
        "\n",
        "---\n",
        "\n",
        "## 📝 Summary\n",
        "\n",
        "Closures are a clean, powerful way to:\n",
        "- Maintain **state across function calls**\n",
        "- Avoid **global variables**\n",
        "- Reduce **side effects**\n",
        "- Keep your code **modular and readable**\n",
        "\n",
        "They're foundational to many advanced Python features like **decorators**, **partial functions**, and **function factories**.\n",
        "\n",
        "---\n",
        "\n",
        "> ✅ Try creating your own closure-based timer, configurator, or logger next!\n",
        "\n",
        "---\n",
        "\n"
      ],
      "metadata": {
        "id": "NKO1zSRyn5vV"
      },
      "id": "NKO1zSRyn5vV"
    },
    {
      "cell_type": "markdown",
      "source": [
        "This is implemented via special internal objects called \"cell\" objects."
      ],
      "metadata": {
        "id": "1a446033"
      },
      "id": "1a446033"
    },
    {
      "cell_type": "markdown",
      "source": [
        "Closures enable lexical scoping and persistent state without globals.\n"
      ],
      "metadata": {
        "id": "131d1efa"
      },
      "id": "131d1efa"
    },
    {
      "cell_type": "markdown",
      "id": "aa1f2579",
      "metadata": {
        "id": "aa1f2579"
      },
      "source": [
        "===================================================\n",
        "# 2. Closure Illustration (ASCII)\n",
        "# ==================================================="
      ]
    },
    {
      "cell_type": "markdown",
      "id": "9a50a5c1",
      "metadata": {
        "id": "9a50a5c1"
      },
      "source": [
        "Consider:"
      ]
    },
    {
      "cell_type": "code",
      "execution_count": null,
      "id": "66caf656",
      "metadata": {
        "id": "66caf656"
      },
      "outputs": [],
      "source": [
        "def outer():\n",
        "        x = 10\n",
        "        def inner():\n",
        "            return x\n",
        "        return inner"
      ]
    },
    {
      "cell_type": "markdown",
      "source": [
        "This creates a closure!"
      ],
      "metadata": {
        "id": "91d8729d"
      },
      "id": "91d8729d"
    },
    {
      "cell_type": "markdown",
      "source": [
        "When `inner` is returned, it retains a reference to `x`\n",
        "inside a \"cell object\"."
      ],
      "metadata": {
        "id": "fc36d910"
      },
      "id": "fc36d910"
    },
    {
      "cell_type": "code",
      "source": [
        "'''ASCII Diagram:\n",
        "   +--------------------+\n",
        "   |   outer() scope    |\n",
        "   |  x = 10 (captured) |\n",
        "   +--------------------+\n",
        "            |\n",
        "            v   (cell reference)\n",
        "   +-----------------------+\n",
        "   |   inner() function    |\n",
        "   |  __closure__ -> cell  |\n",
        "   +-----------------------+\n",
        "\"\"\"'''"
      ],
      "metadata": {
        "id": "fc810bdd",
        "colab": {
          "base_uri": "https://localhost:8080/",
          "height": 53
        },
        "outputId": "f724ada4-8cc8-4ef1-9f20-9053a4cc2b89"
      },
      "id": "fc810bdd",
      "execution_count": 4,
      "outputs": [
        {
          "output_type": "execute_result",
          "data": {
            "text/plain": [
              "'ASCII Diagram:\\n   +--------------------+\\n   |   outer() scope    |\\n   |  x = 10 (captured) |\\n   +--------------------+\\n            |\\n            v   (cell reference)\\n   +-----------------------+\\n   |   inner() function    |\\n   |  __closure__ -> cell  |\\n   +-----------------------+\\n\"\"\"'"
            ],
            "application/vnd.google.colaboratory.intrinsic+json": {
              "type": "string"
            }
          },
          "metadata": {},
          "execution_count": 4
        }
      ]
    },
    {
      "cell_type": "markdown",
      "id": "8e1d5f84",
      "metadata": {
        "id": "8e1d5f84"
      },
      "source": [
        "===================================================\n",
        "# 3. Demonstration Code\n",
        "# ==================================================="
      ]
    },
    {
      "cell_type": "code",
      "execution_count": 1,
      "id": "444866c3",
      "metadata": {
        "id": "444866c3"
      },
      "outputs": [],
      "source": [
        "def make_multiplier(factor):\n",
        "    \"\"\"Return a closure that multiplies by *factor*.\"\"\"\n",
        "    def multiply(n):\n",
        "        return n * factor  # <- factor is a free variable captured in a cell\n",
        "    return multiply"
      ]
    },
    {
      "cell_type": "code",
      "execution_count": 2,
      "id": "954fdbbc",
      "metadata": {
        "colab": {
          "base_uri": "https://localhost:8080/"
        },
        "id": "954fdbbc",
        "outputId": "7e00cd5c-a8cd-4a43-d0a4-f78333820aa4"
      },
      "outputs": [
        {
          "output_type": "stream",
          "name": "stdout",
          "text": [
            "times3(10) = 30\n"
          ]
        }
      ],
      "source": [
        "times3 = make_multiplier(3)\n",
        "print(\"times3(10) =\", times3(10))  # Expected: 30"
      ]
    },
    {
      "cell_type": "markdown",
      "id": "c4b28809",
      "metadata": {
        "id": "c4b28809"
      },
      "source": [
        "===================================================\n",
        "# 4. Inspecting the Closure Internals\n",
        "# ==================================================="
      ]
    },
    {
      "cell_type": "code",
      "execution_count": 5,
      "id": "a07f6b53",
      "metadata": {
        "colab": {
          "base_uri": "https://localhost:8080/"
        },
        "id": "a07f6b53",
        "outputId": "f1c8fcc5-5c5d-420b-ad7f-b3822ec15307"
      },
      "outputs": [
        {
          "output_type": "stream",
          "name": "stdout",
          "text": [
            "\n",
            "Inspecting Closure Internals:\n",
            "Function name: multiply\n",
            "__closure__ attribute: (<cell at 0x7cff6ebb4250: int object at 0xa40bc8>,)\n",
            "Cell contents: [3]\n"
          ]
        }
      ],
      "source": [
        "print(\"\\nInspecting Closure Internals:\")\n",
        "print(\"Function name:\", times3.__name__)\n",
        "print(\"__closure__ attribute:\", times3.__closure__)\n",
        "print(\"Cell contents:\", [cell.cell_contents for cell in times3.__closure__])"
      ]
    },
    {
      "cell_type": "markdown",
      "id": "fb388f50",
      "metadata": {
        "id": "fb388f50"
      },
      "source": [
        "===================================================\n",
        "# 5. Cell Objects Explained\n",
        "# ===================================================\n",
        "\"\"\"\n",
        "Each element of function.__closure__ is a <cell> object.\n",
        "It contains a reference to a captured variable.\n",
        "\"\"\""
      ]
    },
    {
      "cell_type": "code",
      "execution_count": 6,
      "id": "3020eb79",
      "metadata": {
        "colab": {
          "base_uri": "https://localhost:8080/"
        },
        "id": "3020eb79",
        "outputId": "5abf70c4-acf4-4604-92e3-32de1c8ae1c2"
      },
      "outputs": [
        {
          "output_type": "stream",
          "name": "stdout",
          "text": [
            "Cell 0: <cell at 0x7cff6ebb4250: int object at 0xa40bc8>  ->  content=3  type=<class 'cell'>\n"
          ]
        }
      ],
      "source": [
        "for idx, cell in enumerate(times3.__closure__):\n",
        "    print(f\"Cell {idx}: {cell}  ->  content={cell.cell_contents}  type={type(cell)}\")"
      ]
    },
    {
      "cell_type": "markdown",
      "id": "71ca537c",
      "metadata": {
        "id": "71ca537c"
      },
      "source": [
        "🚨 Trap: Loop Variables Are Late-Bound in Closures\n",
        "This means that the value of a loop variable used inside a closure is looked up when the closure is called , not when it's defined.\n",
        "\n",
        "This often leads to unexpected behavior — all closures end up using the last value from the loop"
      ]
    },
    {
      "cell_type": "code",
      "execution_count": 9,
      "id": "a94a93a9",
      "metadata": {
        "colab": {
          "base_uri": "https://localhost:8080/"
        },
        "id": "a94a93a9",
        "outputId": "963ad0af-b97c-4e46-e2e6-0817242d5ad8"
      },
      "outputs": [
        {
          "output_type": "stream",
          "name": "stdout",
          "text": [
            "8\n",
            "8\n",
            "8\n",
            "8\n",
            "8\n"
          ]
        }
      ],
      "source": [
        "def create_multipliers():\n",
        "    multipliers = []\n",
        "    for i in range(5):\n",
        "        def multiplier(x):\n",
        "            return x * i\n",
        "        multipliers.append(multiplier)\n",
        "    return multipliers\n",
        "\n",
        "multipliers = create_multipliers()\n",
        "\n",
        "for m in multipliers:\n",
        "    print(m(2))"
      ]
    },
    {
      "cell_type": "markdown",
      "source": [
        "🧠 Why Does This Happen?\n",
        "The inner function multiplier captures the variable i.\n",
        "But Python uses late binding : the value of i is looked up when multiplier(x) is called , not when it's defined.\n",
        "By the time any of the functions are called, the loop has finished and i is 4 for all of them."
      ],
      "metadata": {
        "id": "B8nLlWRcqlSh"
      },
      "id": "B8nLlWRcqlSh"
    },
    {
      "cell_type": "markdown",
      "source": [
        "\n",
        "\n",
        "---\n",
        "\n",
        "## 🧠 The Problem: Why Do All Functions Use the Last Value?\n",
        "\n",
        "Let’s look at this simplified version of the problem again:\n",
        "\n",
        "```python\n",
        "def create_multipliers():\n",
        "    multipliers = []\n",
        "    for i in range(5):\n",
        "        def multiplier(x):\n",
        "            return x * i\n",
        "        multipliers.append(multiplier)\n",
        "    return multipliers\n",
        "\n",
        "multipliers = create_multipliers()\n",
        "\n",
        "for m in multipliers:\n",
        "    print(m(2))\n",
        "```\n",
        "\n",
        "### ❓ Expected Output:\n",
        "We might expect:\n",
        "```\n",
        "0  (2 * 0)\n",
        "2  (2 * 1)\n",
        "4  (2 * 2)\n",
        "6  (2 * 3)\n",
        "8  (2 * 4)\n",
        "```\n",
        "\n",
        "### ❌ Actual Output:\n",
        "```\n",
        "8\n",
        "8\n",
        "8\n",
        "8\n",
        "8\n",
        "```\n",
        "\n",
        "Why does this happen?\n",
        "\n",
        "---\n",
        "\n",
        "## 🧱 Step-by-Step Breakdown\n",
        "\n",
        "### 🔁 The Loop Runs First\n",
        "\n",
        "The `for` loop runs from `i = 0` to `i = 4`.\n",
        "\n",
        "In each iteration, it defines a function like this:\n",
        "\n",
        "```python\n",
        "def multiplier(x):\n",
        "    return x * i\n",
        "```\n",
        "\n",
        "Then appends that function to a list. But **none of these functions are called yet** — just defined and stored.\n",
        "\n",
        "So after the loop finishes:\n",
        "- `i = 4` (because the loop ends after `i=4`)\n",
        "- The list `multipliers` contains 5 references to the same `multiplier` function (but all referencing the same variable `i`)\n",
        "\n",
        "---\n",
        "\n",
        "### ⏱️ Functions Are Called Later\n",
        "\n",
        "Now we do this:\n",
        "\n",
        "```python\n",
        "for m in multipliers:\n",
        "    print(m(2))\n",
        "```\n",
        "\n",
        "At this point, each `m(2)` calls one of those functions. But when they run, they look up the value of `i` **at that moment**, not when the function was created.\n",
        "\n",
        "And since the loop is done, `i` is now `4`. So every function sees `i = 4`.\n",
        "\n",
        "---\n",
        "\n",
        "\n",
        "---\n",
        "\n",
        "## 🔍 Visual Representation\n",
        "\n",
        "| Loop Iteration | i value | What Happens |\n",
        "|----------------|---------|--------------|\n",
        "| 1st            | 0       | Function `def multiplier(x): return x * i` added to list |\n",
        "| 2nd            | 1       | Same function redefined and added again |\n",
        "| 3rd            | 2       | ... |\n",
        "| 4th            | 3       | ... |\n",
        "| 5th            | 4       | Final `i = 4` |\n",
        "\n",
        "All five functions are **the exact same function object**, referring to the same variable `i`.\n",
        "\n",
        "When you later call them, `i` is `4`, so they all multiply by `4`.\n",
        "\n",
        "---\n",
        "\n",
        "## ✅ Summary So Far\n",
        "\n",
        "- Closures don’t save the **value** of variables at the time of definition.\n",
        "- They save a **reference** to the variable.\n",
        "- So when the closure is executed, it looks up the current value of that variable.\n",
        "- In a loop, that variable changes — and all closures will see the final value unless we force early binding.\n",
        "\n",
        "---\n",
        "\n",
        "## 💡 How to Fix It?\n",
        "\n",
        "To make each function remember the value of `i` at the time it was created, we need to **capture the value immediately** rather than refer to the variable.\n",
        "\n",
        "Here's one clean fix using default arguments:\n",
        "\n",
        "```python\n",
        "def multiplier(x, i=i):\n",
        "    return x * i\n",
        "```\n",
        "\n",
        "Default arguments are evaluated at **function definition time**, not execution time. So this forces Python to capture the current value of `i` during each loop iteration.\n",
        "\n",
        "---\n",
        "\n",
        "\n",
        "```\n",
        "\n",
        "This shows that even though `i` changed during the loop,all closures end up seeing its final value.\n",
        "\n",
        "---\n",
        "\n",
        "## 🎯 Final Thought\n",
        "\n",
        "This behavior may feel unintuitive at first, but it's consistent with how closures and variable scoping work in Python. Understanding this helps you avoid subtle bugs and write more predictable code.\n"
      ],
      "metadata": {
        "id": "37264cd1"
      },
      "id": "37264cd1"
    },
    {
      "cell_type": "code",
      "source": [
        "# Fixed version using default argument to capture current value of i\n",
        "def fixed_loop_closure():\n",
        "    functions = []\n",
        "    for i in range(5):\n",
        "        # Use `i=i` to capture the CURRENT value of i at definition time\n",
        "        def multiply(x, i=i):  # `i` is now fixed to current loop value\n",
        "            return x * i\n",
        "        functions.append(multiply)\n",
        "    return functions\n",
        "\n",
        "# Create the list of fixed functions\n",
        "fixed_functions = fixed_loop_closure()\n",
        "\n",
        "# Call each function\n",
        "for f in fixed_functions:\n",
        "    print(f(2))  # Now prints: 0, 2, 4, 6, 8 as expected"
      ],
      "metadata": {
        "colab": {
          "base_uri": "https://localhost:8080/"
        },
        "id": "QJGNELO1uR6L",
        "outputId": "6c26d8c4-a337-4ffd-becc-08998b4f73a6"
      },
      "id": "QJGNELO1uR6L",
      "execution_count": 10,
      "outputs": [
        {
          "output_type": "stream",
          "name": "stdout",
          "text": [
            "0\n",
            "2\n",
            "4\n",
            "6\n",
            "8\n"
          ]
        }
      ]
    },
    {
      "cell_type": "markdown",
      "source": [
        "🧠 Why this works:\n",
        "In Python, default arguments are evaluated when the function is defined , not when it's called.\n",
        "So i=i captures the current value of i during that specific loop iteration.\n",
        "Each closure now remembers its own copy of i."
      ],
      "metadata": {
        "id": "W81KJYgKuXv6"
      },
      "id": "W81KJYgKuXv6"
    },
    {
      "cell_type": "markdown",
      "id": "29d21669",
      "metadata": {
        "id": "29d21669"
      },
      "source": [
        "===================================================\n",
        "# 7. Practical Uses of Closures\n",
        "# ===================================================\n",
        "\"\"\"\n",
        "- Factory functions (configurable behavior without classes)\n",
        "- Decorators that keep local state\n",
        "- Simple memoization or caching\n",
        "- Callback registrations without exposing globals\n",
        "\"\"\""
      ]
    },
    {
      "cell_type": "markdown",
      "id": "39425436",
      "metadata": {
        "id": "39425436"
      },
      "source": [
        "===========================\n",
        "# END OF TOPIC 1\n",
        "# ==========================="
      ]
    }
  ],
  "metadata": {
    "colab": {
      "provenance": []
    },
    "language_info": {
      "name": "python"
    },
    "kernelspec": {
      "name": "python3",
      "display_name": "Python 3"
    }
  },
  "nbformat": 4,
  "nbformat_minor": 5
}